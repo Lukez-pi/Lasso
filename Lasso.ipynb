{
 "cells": [
  {
   "cell_type": "code",
   "execution_count": 1,
   "id": "9c073a9c",
   "metadata": {},
   "outputs": [],
   "source": [
    "import numpy as np\n",
    "import matplotlib.pyplot as plt"
   ]
  },
  {
   "cell_type": "code",
   "execution_count": 105,
   "id": "4553b482",
   "metadata": {},
   "outputs": [
    {
     "data": {
      "image/png": "[encoded data removed]",
      "text/plain": [
       "<Figure size 432x288 with 1 Axes>"
      ]
     },
     "metadata": {
      "needs_background": "light"
     },
     "output_type": "display_data"
    }
   ],
   "source": [
    "x = np.linspace(-1,1,20)\n",
    "y = np.array(2 * x + 3 + np.random.normal(size=x.shape[0])).reshape(-1,1)\n",
    "plt.scatter(x, y)\n",
    "X = np.ones((x.shape[0],2))\n",
    "X[:,1] = x"
   ]
  },
  {
   "cell_type": "markdown",
   "id": "8c42220f",
   "metadata": {},
   "source": [
    "The cost function of linear regression is $$f=\\sum_{i=1}^{N}(y_i-\\sum_{j=0}^{p}\\beta_j x_{ij})^2$$"
   ]
  },
  {
   "cell_type": "code",
   "execution_count": 112,
   "id": "d09d343f",
   "metadata": {},
   "outputs": [
    {
     "name": "stdout",
     "output_type": "stream",
     "text": [
      "[[3.02011639]\n",
      " [2.16375715]]\n"
     ]
    }
   ],
   "source": [
    "X_t = np.transpose(X)\n",
    "A = np.linalg.inv(np.matmul(X_t, X))\n",
    "print(np.matmul(np.matmul(A, X_t), y))"
   ]
  },
  {
   "cell_type": "code",
   "execution_count": 98,
   "id": "db8136bb",
   "metadata": {},
   "outputs": [],
   "source": [
    "def coordinate_descent_linear_regression(β, X, y, num_iter, α):\n",
    "    num_features = X.shape[1]\n",
    "    β_hist = np.zeros((num_iter, num_features), dtype=float)\n",
    "    for i in range(num_iter):\n",
    "        # dfdβj=Xj*(βX-y)\n",
    "        # βj := βj - α*df/dβj\n",
    "        for j in range(num_features):\n",
    "            gradient = np.dot(X[:,j], (np.matmul(X,β) - y))\n",
    "            β[j,0] = β[j,0] - α * gradient \n",
    "            β_hist[i,j] = β[j,0]\n",
    "    return [β, β_hist]"
   ]
  },
  {
   "cell_type": "code",
   "execution_count": 114,
   "id": "ea887a59",
   "metadata": {
    "scrolled": true
   },
   "outputs": [
    {
     "name": "stdout",
     "output_type": "stream",
     "text": [
      "[[3.02011639]\n",
      " [2.16376406]]\n"
     ]
    }
   ],
   "source": [
    "β_init = np.array([3.5,4], dtype=float).reshape(-1,1)\n",
    "α = 0.03\n",
    "num_iter = 50\n",
    "[β_final, β_hist] = coordinate_descent_linear_regression(β, X, y, num_iter, α)\n",
    "print(β_final)"
   ]
  },
  {
   "cell_type": "code",
   "execution_count": 116,
   "id": "caa0b93c",
   "metadata": {},
   "outputs": [
    {
     "name": "stdout",
     "output_type": "stream",
     "text": [
      "[[ 1.51601852]\n",
      " [-4.61733074]]\n"
     ]
    },
    {
     "data": {
      "image/png": "[encoded data removed]",
      "text/plain": [
       "<Figure size 432x288 with 1 Axes>"
      ]
     },
     "metadata": {
      "needs_background": "light"
     },
     "output_type": "display_data"
    }
   ],
   "source": [
    "x = np.linspace(0,1,40)\n",
    "noise = 1*np.random.uniform(  size = 40)\n",
    "y = np.sin(x * 1.5 * np.pi ) \n",
    "y_noise = (y + noise).reshape(-1,1)\n",
    "y_noise = y_noise - y_noise.mean()\n",
    "plt.scatter(x, y_noise)\n",
    "X = np.vstack((2*x,x**2)).T\n",
    "β_init = np.array([4,-4.]).reshape(-1,1)\n",
    "α = 0.009\n",
    "[β_final, β_hist] = coordinate_descent_linear_regression(β_init, X, y_noise, num_iter, α)\n",
    "print(β_final)"
   ]
  },
  {
   "cell_type": "code",
   "execution_count": 19,
   "id": "1db7228a",
   "metadata": {},
   "outputs": [
    {
     "name": "stdout",
     "output_type": "stream",
     "text": [
      "(40, 2)\n",
      "(2, 1)\n",
      "(40, 1)\n",
      "(40, 1)\n"
     ]
    }
   ],
   "source": [
    "def coordinate_descent_lasso():\n",
    "    "
   ]
  }
 ],
 "metadata": {
  "kernelspec": {
   "display_name": "Python 3 (ipykernel)",
   "language": "python",
   "name": "python3"
  },
  "language_info": {
   "codemirror_mode": {
    "name": "ipython",
    "version": 3
   },
   "file_extension": ".py",
   "mimetype": "text/x-python",
   "name": "python",
   "nbconvert_exporter": "python",
   "pygments_lexer": "ipython3",
   "version": "3.10.4"
  }
 },
 "nbformat": 4,
 "nbformat_minor": 5
}
